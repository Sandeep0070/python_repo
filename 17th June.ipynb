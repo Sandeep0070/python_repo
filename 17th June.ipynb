{
 "cells": [
  {
   "cell_type": "markdown",
   "metadata": {},
   "source": [
    "#### 1. What is the role of try and exception block?"
   ]
  },
  {
   "cell_type": "markdown",
   "metadata": {},
   "source": [
    "The try and except blocks in Python are used for exception handling. Exception handling is a mechanism that allows you to gracefully handle errors or exceptional situations in your code, preventing the program from crashing and providing a way to respond to unexpected issues."
   ]
  },
  {
   "cell_type": "code",
   "execution_count": 1,
   "metadata": {},
   "outputs": [
    {
     "name": "stdout",
     "output_type": "stream",
     "text": [
      "Enter a number: 1\n",
      "Enter another number: 0\n",
      "Error: Division by zero is not allowed.\n"
     ]
    }
   ],
   "source": [
    "try:\n",
    "    # Code that might raise an exception\n",
    "    num1 = int(input(\"Enter a number: \"))\n",
    "    num2 = int(input(\"Enter another number: \"))\n",
    "    result = num1 / num2\n",
    "    print(\"Result:\", result)\n",
    "\n",
    "except ZeroDivisionError:\n",
    "    print(\"Error: Division by zero is not allowed.\")\n",
    "\n",
    "except ValueError:\n",
    "    print(\"Error: Please enter valid integers.\")\n",
    "\n",
    "except Exception as e:\n",
    "    print(\"An unexpected error occurred:\", e)\n"
   ]
  },
  {
   "cell_type": "markdown",
   "metadata": {},
   "source": [
    "#### 2.What is the syntax for a basic try-except block?"
   ]
  },
  {
   "cell_type": "code",
   "execution_count": null,
   "metadata": {},
   "outputs": [],
   "source": [
    "try:\n",
    "    # Code that might raise an exception\n",
    "    # ...\n",
    "except ExceptionType:\n",
    "    # Code to handle the specific exception\n",
    "    # ...\n",
    "except AnotherExceptionType:\n",
    "    # Code to handle another specific exception\n",
    "    # ...\n",
    "else:\n",
    "    # Optional: Code to execute if no exception occurs\n",
    "    # ...\n",
    "finally:\n",
    "    # Optional: Code that will be executed regardless of whether an exception occurred\n",
    "    # ...\n"
   ]
  },
  {
   "cell_type": "markdown",
   "metadata": {},
   "source": [
    "#### 3. What happens if an exception occurs inside a try block and there is no matching except block?"
   ]
  },
  {
   "cell_type": "markdown",
   "metadata": {},
   "source": [
    "If an exception occurs inside a try block and there is no matching except block to handle that specific type of exception, the program will terminate, and an unhandled exception message will be displayed. This message typically includes information about the exception type, the traceback, and where the exception occurred in the code."
   ]
  },
  {
   "cell_type": "code",
   "execution_count": 3,
   "metadata": {},
   "outputs": [
    {
     "name": "stdout",
     "output_type": "stream",
     "text": [
      "Enter a number: 2\n",
      "Enter another number: 3\n",
      "Result: 0.6666666666666666\n",
      "This block always executes, whether an exception occurred or not.\n"
     ]
    }
   ],
   "source": [
    "try:\n",
    "    num1 = int(input(\"Enter a number: \"))\n",
    "    num2 = int(input(\"Enter another number: \"))\n",
    "    result = num1 / num2\n",
    "    print(\"Result:\", result)\n",
    "\n",
    "# No except block to handle a possible ValueError\n",
    "\n",
    "finally:\n",
    "    print(\"This block always executes, whether an exception occurred or not.\")\n"
   ]
  },
  {
   "cell_type": "markdown",
   "metadata": {},
   "source": [
    "#### 4. What is the difference between using a bare except block and specifying a specific exception type?"
   ]
  },
  {
   "cell_type": "markdown",
   "metadata": {},
   "source": [
    "Bare except block:\n",
    "\n",
    "A bare except block catches all exceptions, regardless of their type.\n",
    "It is more general and can be used to handle any exception that might occur in the corresponding try block.\n",
    "\n",
    "pecific exception type:\n",
    "\n",
    "Specifying a specific exception type in the except block allows you to handle only that particular type of exception.\n",
    "It provides more precision and control, allowing you to tailor the exception handling process based on the specific error conditions you anticipate."
   ]
  },
  {
   "cell_type": "markdown",
   "metadata": {},
   "source": [
    "#### 5. Can you have nested try-except blocks in Python? If yes, then give an example."
   ]
  },
  {
   "cell_type": "markdown",
   "metadata": {},
   "source": [
    "Yes, it is possible to have nested try-except blocks in Python. This means that one try block can contain another try-except block within it. Each level of nesting can have its own set of except blocks to handle specific exceptions. This allows for more fine-grained exception handling in different parts of the code.\n",
    "\n"
   ]
  },
  {
   "cell_type": "code",
   "execution_count": 7,
   "metadata": {},
   "outputs": [
    {
     "name": "stdout",
     "output_type": "stream",
     "text": [
      "Enter a number: 2\n",
      "Enter another number: 0\n",
      "Error: Division by zero is not allowed (Inner try-except).\n"
     ]
    }
   ],
   "source": [
    "try:\n",
    "    # Outer try block\n",
    "    num1 = int(input(\"Enter a number: \"))\n",
    "    \n",
    "    try:\n",
    "        # Inner try block\n",
    "        num2 = int(input(\"Enter another number: \"))\n",
    "        result = num1 / num2\n",
    "        print(\"Result:\", result)\n",
    "\n",
    "    except ZeroDivisionError:\n",
    "        print(\"Error: Division by zero is not allowed (Inner try-except).\")\n",
    "\n",
    "except ValueError:\n",
    "    print(\"Error: Please enter valid integers (Outer try-except).\")\n"
   ]
  },
  {
   "cell_type": "markdown",
   "metadata": {},
   "source": [
    "#### 6. Can we use multiple exception blocks, if yes then give an example."
   ]
  },
  {
   "cell_type": "markdown",
   "metadata": {},
   "source": [
    "Yes, you can use multiple except blocks to handle different types of exceptions in Python. Each except block can handle a specific type of exception, allowing you to tailor the exception handling process based on the different error conditions you anticipate."
   ]
  },
  {
   "cell_type": "code",
   "execution_count": 8,
   "metadata": {},
   "outputs": [
    {
     "name": "stdout",
     "output_type": "stream",
     "text": [
      "Enter a number: 3\n",
      "Enter another number: -\n",
      "Error: Please enter valid integers.\n"
     ]
    }
   ],
   "source": [
    "try:\n",
    "    num1 = int(input(\"Enter a number: \"))\n",
    "    num2 = int(input(\"Enter another number: \"))\n",
    "    result = num1 / num2\n",
    "    print(\"Result:\", result)\n",
    "\n",
    "except ZeroDivisionError:\n",
    "    print(\"Error: Division by zero is not allowed.\")\n",
    "\n",
    "except ValueError:\n",
    "    print(\"Error: Please enter valid integers.\")\n",
    "\n",
    "except Exception as e:\n",
    "    print(\"An unexpected error occurred:\", e)\n"
   ]
  },
  {
   "cell_type": "markdown",
   "metadata": {},
   "source": [
    "#### 7.Write the reason due to which following errors are raised:\n",
    "###### a. EOFError\n",
    "###### b. FloatingPointError\n",
    "###### c. IndexError\n",
    "###### d. MemoryError\n",
    "###### e. OverflowError\n",
    "###### f. TabError\n",
    "###### g. ValueError"
   ]
  },
  {
   "cell_type": "markdown",
   "metadata": {},
   "source": [
    "a. EOFError:\n",
    "\n",
    "Reason: Raised when the input() function reads the end-of-file (EOF) marker, indicating the end of input, but the expected data is not provided.\n",
    "\n",
    "b. FloatingPointError:\n",
    "\n",
    "Reason: Raised when a floating-point operation results in an exceptional condition, such as division by zero or an operation that produces an undefined result like infinity.\n",
    "\n",
    "c. IndexError:\n",
    "\n",
    "Reason: Raised when trying to access an index in a sequence (like a list or tuple) that is outside the valid range of indices. It indicates an attempt to access an element that does not exist.\n",
    "\n",
    "d. MemoryError:\n",
    "\n",
    "Reason: Raised when an operation cannot be completed due to insufficient memory. This error occurs when attempting to allocate more memory than the system can provide.\n",
    "\n",
    "e. OverflowError:\n",
    "\n",
    "Reason: Raised when an arithmetic operation exceeds the representational limits of the data type, resulting in an overflow. For example, trying to store a value that is too large for the data type.\n",
    "\n",
    "f. TabError:\n",
    "\n",
    "Reason: Raised when there is an issue with the indentation of the code, particularly when mixing tabs and spaces inconsistently within an indented block. Python relies on consistent indentation to interpret the structure of the code.\n",
    "\n",
    "g. ValueError:\n",
    "\n",
    "Reason: Raised when a built-in operation or function receives an argument of the correct type but with an invalid value. For example, trying to convert a string to an integer when the string does not represent a valid integer."
   ]
  },
  {
   "cell_type": "markdown",
   "metadata": {},
   "source": [
    "#### 8. Write code for the following given scenario and add try-exception block to it.\n",
    "##### a. Program to divide two numbers\n",
    "##### b. Program to convert a string to an integer\n",
    "##### c. Program to access an element in a list\n",
    "##### d. Program to handle a specific exception\n",
    "##### e. Program to handle any exception"
   ]
  },
  {
   "cell_type": "code",
   "execution_count": 9,
   "metadata": {},
   "outputs": [
    {
     "name": "stdout",
     "output_type": "stream",
     "text": [
      "Enter the numerator: 2/4\n",
      "Error: Please enter valid numbers.\n"
     ]
    }
   ],
   "source": [
    "try:\n",
    "    num1 = float(input(\"Enter the numerator: \"))\n",
    "    num2 = float(input(\"Enter the denominator: \"))\n",
    "    result = num1 / num2\n",
    "    print(\"Result:\", result)\n",
    "\n",
    "except ZeroDivisionError:\n",
    "    print(\"Error: Division by zero is not allowed.\")\n",
    "except ValueError:\n",
    "    print(\"Error: Please enter valid numbers.\")\n",
    "except Exception as e:\n",
    "    print(\"An unexpected error occurred:\", e)\n"
   ]
  },
  {
   "cell_type": "code",
   "execution_count": 10,
   "metadata": {},
   "outputs": [
    {
     "name": "stdout",
     "output_type": "stream",
     "text": [
      "Enter an integer: 323\n",
      "Converted Integer: 323\n"
     ]
    }
   ],
   "source": [
    "try:\n",
    "    string_num = input(\"Enter an integer: \")\n",
    "    integer_num = int(string_num)\n",
    "    print(\"Converted Integer:\", integer_num)\n",
    "\n",
    "except ValueError:\n",
    "    print(\"Error: Please enter a valid integer.\")\n",
    "except Exception as e:\n",
    "    print(\"An unexpected error occurred:\", e)\n"
   ]
  },
  {
   "cell_type": "code",
   "execution_count": 11,
   "metadata": {},
   "outputs": [
    {
     "name": "stdout",
     "output_type": "stream",
     "text": [
      "Enter an index to access: 4\n",
      "Value at index 4: 5\n"
     ]
    }
   ],
   "source": [
    "try:\n",
    "    my_list = [1, 2, 3, 4, 5]\n",
    "    index = int(input(\"Enter an index to access: \"))\n",
    "    value = my_list[index]\n",
    "    print(\"Value at index {}: {}\".format(index, value))\n",
    "\n",
    "except IndexError:\n",
    "    print(\"Error: Index out of range.\")\n",
    "except ValueError:\n",
    "    print(\"Error: Please enter a valid index.\")\n",
    "except Exception as e:\n",
    "    print(\"An unexpected error occurred:\", e)\n"
   ]
  },
  {
   "cell_type": "code",
   "execution_count": 12,
   "metadata": {},
   "outputs": [
    {
     "name": "stdout",
     "output_type": "stream",
     "text": [
      "Enter a positive integer: 4\n",
      "You entered: 4\n"
     ]
    }
   ],
   "source": [
    "try:\n",
    "    x = int(input(\"Enter a positive integer: \"))\n",
    "    if x <= 0:\n",
    "        raise ValueError(\"Input must be a positive integer\")\n",
    "    print(\"You entered:\", x)\n",
    "\n",
    "except ValueError as ve:\n",
    "    print(\"Error:\", ve)\n",
    "except Exception as e:\n",
    "    print(\"An unexpected error occurred:\", e)\n"
   ]
  },
  {
   "cell_type": "code",
   "execution_count": 13,
   "metadata": {},
   "outputs": [
    {
     "name": "stdout",
     "output_type": "stream",
     "text": [
      "Enter the numerator: 3\n",
      "Enter the denominator: 4\n",
      "Result: 0.75\n"
     ]
    }
   ],
   "source": [
    "try:\n",
    "    numerator = int(input(\"Enter the numerator: \"))\n",
    "    denominator = int(input(\"Enter the denominator: \"))\n",
    "    result = numerator / denominator\n",
    "    print(\"Result:\", result)\n",
    "\n",
    "except Exception as e:\n",
    "    print(\"An error occurred:\", e)\n"
   ]
  }
 ],
 "metadata": {
  "kernelspec": {
   "display_name": "Python 3",
   "language": "python",
   "name": "python3"
  },
  "language_info": {
   "codemirror_mode": {
    "name": "ipython",
    "version": 3
   },
   "file_extension": ".py",
   "mimetype": "text/x-python",
   "name": "python",
   "nbconvert_exporter": "python",
   "pygments_lexer": "ipython3",
   "version": "3.8.5"
  }
 },
 "nbformat": 4,
 "nbformat_minor": 4
}
