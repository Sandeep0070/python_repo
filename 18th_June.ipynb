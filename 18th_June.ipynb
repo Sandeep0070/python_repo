{
 "cells": [
  {
   "cell_type": "markdown",
   "metadata": {},
   "source": [
    "#### 1.What is the role of the 'else' block in a try-except statement? Provide an example scenario where it would be useful."
   ]
  },
  {
   "cell_type": "markdown",
   "metadata": {},
   "source": [
    "The else block in a try-except statement is optional and is executed if no exceptions are raised in the associated try block. It provides a way to specify a block of code that should run only when the try block completes successfully without any exceptions."
   ]
  },
  {
   "cell_type": "code",
   "execution_count": 2,
   "metadata": {},
   "outputs": [
    {
     "name": "stdout",
     "output_type": "stream",
     "text": [
      "Enter the first number: 7\n",
      "Enter the second number: 7\n",
      "Division successful!\n",
      "Result: 1.0\n"
     ]
    }
   ],
   "source": [
    "try:\n",
    "    num1 = int(input(\"Enter the first number: \"))\n",
    "    num2 = int(input(\"Enter the second number: \"))\n",
    "    result = num1 / num2\n",
    "\n",
    "except ValueError:\n",
    "    print(\"Error: Please enter valid integers.\")\n",
    "\n",
    "except ZeroDivisionError:\n",
    "    print(\"Error: Division by zero is not allowed.\")\n",
    "\n",
    "else:\n",
    "    print(\"Division successful!\")\n",
    "    print(\"Result:\", result)\n",
    "\n",
    "    "
   ]
  },
  {
   "cell_type": "markdown",
   "metadata": {},
   "source": [
    "#### 2. Can a try-except block be nested inside another try-except block? Explain with an example."
   ]
  },
  {
   "cell_type": "markdown",
   "metadata": {},
   "source": [
    "\n",
    "Yes, a try-except block can be nested inside another try-except block in Python. This allows for more granular exception handling, where specific exceptions can be caught at different levels of the code. Each nested try-except block can have its own set of except blocks to handle specific exceptions."
   ]
  },
  {
   "cell_type": "code",
   "execution_count": null,
   "metadata": {},
   "outputs": [],
   "source": [
    "try:\n",
    "    # Outer try block\n",
    "    numerator = int(input(\"Enter the numerator: \"))\n",
    "    denominator = int(input(\"Enter the denominator: \"))\n",
    "\n",
    "    try:\n",
    "        # Inner try block\n",
    "        result = numerator / denominator\n",
    "        print(\"Result:\", result)\n",
    "\n",
    "    except ZeroDivisionError:\n",
    "        print(\"Error (Inner): Division by zero is not allowed.\")\n",
    "\n",
    "except ValueError:\n",
    "    print(\"Error (Outer): Please enter valid integers.\")\n",
    "\n",
    "except Exception as e:\n",
    "    print(\"An unexpected error occurred:\", e)\n"
   ]
  },
  {
   "cell_type": "markdown",
   "metadata": {},
   "source": [
    "#### 3. How can you create a custom exception class in Python? Provide an example that demonstrates its usage."
   ]
  },
  {
   "cell_type": "markdown",
   "metadata": {},
   "source": [
    "create a custom exception class by inheriting from the built-in Exception class or one of its subclasses. Creating custom exception classes allows you to define your own exception types with specific behavior and messages.\n"
   ]
  },
  {
   "cell_type": "code",
   "execution_count": null,
   "metadata": {},
   "outputs": [],
   "source": [
    "# Custom exception class\n",
    "class NegativeValueError(Exception):\n",
    "    def __init__(self, value):\n",
    "        self.value = value\n",
    "        super().__init__()\n",
    "\n",
    "    def __str__(self):\n",
    "        return f\"Error: Negative value ({self.value}) not allowed.\"\n",
    "\n",
    "\n",
    "# Function that raises the custom exception\n",
    "def calculate_square_root(number):\n",
    "    if number < 0:\n",
    "        raise NegativeValueError(number)\n",
    "    return number ** 0.5\n",
    "\n",
    "\n",
    "# Example usage\n",
    "try:\n",
    "    user_input = float(input(\"Enter a number to calculate its square root: \"))\n",
    "    result = calculate_square_root(user_input)\n",
    "    print(\"Square root:\", result)\n",
    "\n",
    "except NegativeValueError as nve:\n",
    "    print(nve)\n",
    "\n",
    "except ValueError:\n",
    "    print(\"Error: Please enter a valid number.\")\n"
   ]
  },
  {
   "cell_type": "markdown",
   "metadata": {},
   "source": [
    "#### 4. What are some common exceptions that are built-in to Python?"
   ]
  },
  {
   "cell_type": "markdown",
   "metadata": {},
   "source": [
    "SyntaxError:\n",
    "\n",
    "Raised when there is a syntax error in the code.\n",
    "\n",
    "IndentationError:\n",
    "\n",
    "Raised when there is an issue with the indentation of the code.\n",
    "\n",
    "NameError:\n",
    "\n",
    "Raised when a local or global name is not found.\n",
    "\n",
    "TypeError:\n",
    "\n",
    "Raised when an operation or function is applied to an object of an inappropriate type.\n",
    "\n",
    "ValueError:\n",
    "\n",
    "Raised when a built-in operation or function receives an argument of the correct type but with an invalid value.\n",
    "\n",
    "ZeroDivisionError:\n",
    "\n",
    "Raised when attempting to divide by zero.\n",
    "\n",
    "FileNotFoundError:\n",
    "\n",
    "Raised when a file or directory is requested but cannot be found.\n",
    "\n",
    "IOError:\n",
    "\n",
    "Raised when an input/output operation fails (e.g., reading or writing to a file).\n",
    "\n",
    "IndexError:\n",
    "\n",
    "Raised when trying to access an index in a sequence (e.g., list, tuple) that is outside the valid range.\n",
    "\n",
    "KeyError:\n",
    "\n",
    "Raised when a dictionary key is not found.\n",
    "\n",
    "AttributeError:\n",
    "\n",
    "Raised when an attribute reference or assignment fails.\n",
    "\n",
    "ImportError:\n",
    "\n",
    "Raised when an import statement fails to find the specified module.\n",
    "\n",
    "RuntimeError:\n",
    "\n",
    "Raised when an error is detected that doesn't fall under any specific category."
   ]
  },
  {
   "cell_type": "markdown",
   "metadata": {},
   "source": [
    "#### 5. What is logging in Python, and why is it important in software development?"
   ]
  },
  {
   "cell_type": "markdown",
   "metadata": {},
   "source": [
    "Logging in Python refers to the process of recording information, messages, or events that occur during the execution of a program. The logging module in Python provides a flexible and configurable way to generate log messages from applications. \n",
    "\n",
    "Debugging and Troubleshooting:\n",
    "\n",
    "Logs serve as a valuable tool for debugging and troubleshooting code. Developers can include informative log messages to trace the flow of the program, identify errors, and understand the sequence of events leading to an issue.\n",
    "\n",
    "Error Tracking:\n",
    "\n",
    "Logs help in tracking errors and exceptions. By logging error messages along with relevant details, developers can quickly identify the root cause of issues and address them effectively.\n",
    "\n",
    "Monitoring and Analysis:\n",
    "\n",
    "Logging provides a means to monitor the performance and behavior of an application in real-time or over time. Analyzing logs can reveal patterns, trends, and potential areas for optimization or improvement."
   ]
  },
  {
   "cell_type": "markdown",
   "metadata": {},
   "source": [
    "#### 6. Explain the purpose of log levels in Python logging and provide examples of when each log level would be appropriate."
   ]
  },
  {
   "cell_type": "markdown",
   "metadata": {},
   "source": [
    "Log levels in Python logging provide a way to categorize and prioritize log messages based on their severity or importance. The logging module supports several predefined log levels, each serving a specific purpose."
   ]
  },
  {
   "cell_type": "markdown",
   "metadata": {},
   "source": [
    "DEBUG:\n",
    "\n",
    "Purpose: Used for detailed debugging information.\n",
    "\n",
    "Example Scenario: Logging variable values, detailed function call information, or any other details helpful for debugging during development."
   ]
  },
  {
   "cell_type": "code",
   "execution_count": null,
   "metadata": {},
   "outputs": [],
   "source": [
    "import logging\n",
    "\n",
    "logging.debug(\"This is a debug message with detailed information.\")\n"
   ]
  },
  {
   "cell_type": "markdown",
   "metadata": {},
   "source": [
    "INFO:\n",
    "\n",
    "Purpose: General information about the program's execution.\n",
    "    \n",
    "Example Scenario: Logging important milestones, significant events, or general progress information."
   ]
  },
  {
   "cell_type": "code",
   "execution_count": null,
   "metadata": {},
   "outputs": [],
   "source": [
    "import logging\n",
    "\n",
    "logging.info(\"Application started successfully.\")\n"
   ]
  },
  {
   "cell_type": "markdown",
   "metadata": {},
   "source": [
    "WARNING (or WARN):\n",
    "\n",
    "Purpose: Indicates a potential issue or a situation that might lead to problems in the future.\n",
    "    \n",
    "Example Scenario: Logging warnings about deprecated features, potential performance bottlenecks, or situations that need attention."
   ]
  },
  {
   "cell_type": "code",
   "execution_count": null,
   "metadata": {},
   "outputs": [],
   "source": [
    "import logging\n",
    "\n",
    "logging.warning(\"This is a warning message. Proceed with caution.\")\n"
   ]
  },
  {
   "cell_type": "markdown",
   "metadata": {},
   "source": [
    "#### 7. What are log formatters in Python logging, and how can you customise the log message format using formatters?"
   ]
  },
  {
   "cell_type": "markdown",
   "metadata": {},
   "source": [
    "Creating a Formatter:\n",
    "\n",
    "Create an instance of the Formatter class, specifying the desired log message format. This is usually done when configuring the logging system."
   ]
  },
  {
   "cell_type": "code",
   "execution_count": null,
   "metadata": {},
   "outputs": [],
   "source": [
    "import logging\n",
    "\n",
    "custom_formatter = logging.Formatter('%(asctime)s - %(levelname)s - %(message)s')\n"
   ]
  },
  {
   "cell_type": "markdown",
   "metadata": {},
   "source": [
    "Applying the Formatter to a Handler:\n",
    "\n",
    "Assign the custom formatter to a Handler (e.g., StreamHandler, FileHandler) using the setFormatter method."
   ]
  },
  {
   "cell_type": "code",
   "execution_count": null,
   "metadata": {},
   "outputs": [],
   "source": [
    "stream_handler = logging.StreamHandler()\n",
    "stream_handler.setFormatter(custom_formatter)\n"
   ]
  },
  {
   "cell_type": "markdown",
   "metadata": {},
   "source": [
    "Attaching the Handler to a Logger:\n",
    "\n",
    "Attach the handler to a logger using the addHandler method."
   ]
  },
  {
   "cell_type": "code",
   "execution_count": null,
   "metadata": {},
   "outputs": [],
   "source": [
    "logger = logging.getLogger('example_logger')\n",
    "logger.addHandler(stream_handler)\n"
   ]
  },
  {
   "cell_type": "markdown",
   "metadata": {},
   "source": [
    "#### 8. How can you set up logging to capture log messages from multiple modules or classes in a Python application?"
   ]
  },
  {
   "cell_type": "markdown",
   "metadata": {},
   "source": [
    "Create a Logger for Each Module or Class:\n",
    "\n",
    "In each module or class where you want to log messages, create a logger instance using logging.getLogger(__name__). The __name__ variable automatically represents the module or class name."
   ]
  },
  {
   "cell_type": "code",
   "execution_count": null,
   "metadata": {},
   "outputs": [],
   "source": [
    "# module1.py\n",
    "import logging\n",
    "\n",
    "logger = logging.getLogger(__name__)\n",
    "\n",
    "def example_function():\n",
    "    logger.info('This is a log message from module1.')\n"
   ]
  },
  {
   "cell_type": "markdown",
   "metadata": {},
   "source": [
    "Configure Logging at the Application Level:\n",
    "\n",
    "In the main script or application entry point, configure the logging system. This includes setting the log level, specifying handlers, and optionally configuring formatters."
   ]
  },
  {
   "cell_type": "code",
   "execution_count": null,
   "metadata": {},
   "outputs": [],
   "source": [
    "# main_script.py\n",
    "import logging\n",
    "import module1\n",
    "import module2\n",
    "\n",
    "logging.basicConfig(level=logging.DEBUG)  # Set the root logger's level\n",
    "\n",
    "# Optionally configure handlers and formatters\n",
    "\n",
    "module1.example_function()\n",
    "module2.another_function()\n"
   ]
  },
  {
   "cell_type": "markdown",
   "metadata": {},
   "source": [
    "#### 9. What is the difference between the logging and print statements in Python? When should you use logging over print statements in a real-world application?"
   ]
  },
  {
   "cell_type": "markdown",
   "metadata": {},
   "source": [
    "Destination:\n",
    "\n",
    "print: Outputs messages to the standard output (usually the console).\n",
    "\n",
    "logging: Allows messages to be directed to different destinations, such as files, email, network sockets, etc., through various handlers.\n",
    "\n",
    "Severity Levels:\n",
    "\n",
    "print: Doesn't provide a built-in mechanism for categorizing messages based on severity levels.\n",
    "\n",
    "logging: Offers different log levels (DEBUG, INFO, WARNING, ERROR, CRITICAL) to categorize messages by severity, enabling selective logging based on configuration.\n",
    "\n",
    "Flexibility:\n",
    "\n",
    "print: Simple and straightforward for quick debugging or displaying information.\n",
    "\n",
    "logging: More flexible and extensible, supporting customization through formatters, filters, and handlers. Allows better control over log messages.\n",
    "\n",
    "Configuration:\n",
    "\n",
    "print: Limited configuration options.\n",
    "\n",
    "logging: Configurable at both application startup and runtime. Supports advanced logging configurations through files or code.\n",
    "\n",
    "Maintainability:\n",
    "\n",
    "print: Often used for temporary debugging but can clutter the codebase if not removed or commented out.\n",
    "\n",
    "logging: Provides a structured way to include debug messages in the code without affecting the readability. Logging statements can be easily toggled on/off using configuration."
   ]
  },
  {
   "cell_type": "markdown",
   "metadata": {},
   "source": [
    "#### 10. Write a Python program that logs a message to a file named \"app.log\" with the following requirements:\n",
    "● The log message should be \"Hello, World!\"\n",
    " \n",
    "● The log level should be set to \"INFO.\"\n",
    "\n",
    "● The log file should append new log entries without overwriting previous ones."
   ]
  },
  {
   "cell_type": "code",
   "execution_count": 2,
   "metadata": {},
   "outputs": [],
   "source": [
    "import logging\n",
    "\n",
    "# Configure the logging system\n",
    "logging.basicConfig(\n",
    "    filename='app.log',  # Log file name\n",
    "    level=logging.INFO,   # Log level set to INFO\n",
    "    format='%(asctime)s - %(levelname)s - %(message)s',  # Log message format\n",
    ")\n",
    "\n",
    "# Log the message\n",
    "logging.info('Hello, World!')\n"
   ]
  },
  {
   "cell_type": "markdown",
   "metadata": {},
   "source": [
    "#### 11. Create a Python program that logs an error message to the console and a file named \"errors.log\" if an exception occurs during the program's execution. The error message should include the exception type and a timestamp."
   ]
  },
  {
   "cell_type": "code",
   "execution_count": 4,
   "metadata": {},
   "outputs": [
    {
     "name": "stdout",
     "output_type": "stream",
     "text": [
      "An error occurred: division by zero\n"
     ]
    }
   ],
   "source": [
    "import logging\n",
    "import traceback\n",
    "from datetime import datetime\n",
    "\n",
    "# Configure the logging system\n",
    "logging.basicConfig(\n",
    "    level=logging.INFO,   # Set the root logger's level to INFO\n",
    "    format='%(asctime)s - %(levelname)s - %(message)s',  # Log message format\n",
    ")\n",
    "\n",
    "# Configure a file handler for errors\n",
    "errors_file_handler = logging.FileHandler('errors.log')\n",
    "errors_file_handler.setLevel(logging.ERROR)  # Set the handler's level to ERROR\n",
    "errors_file_handler.setFormatter(logging.Formatter('%(asctime)s - %(levelname)s - %(message)s'))  # Log format\n",
    "\n",
    "# Add the file handler to the root logger\n",
    "logging.getLogger().addHandler(errors_file_handler)\n",
    "\n",
    "def main():\n",
    "    try:\n",
    "        # Your main code here\n",
    "        result = 10 / 0  # Triggering a division by zero error for demonstration\n",
    "\n",
    "    except Exception as e:\n",
    "        # Log the exception to console and errors.log\n",
    "        error_message = f'Exception: {type(e).__name__}, Timestamp: {datetime.now()}'\n",
    "        logging.error(error_message)\n",
    "        print(f'An error occurred: {e}')\n",
    "\n",
    "        # Log the full traceback to errors.log\n",
    "        logging.error('Traceback:\\n' + traceback.format_exc())\n",
    "\n",
    "if __name__ == \"__main__\":\n",
    "    main()\n"
   ]
  }
 ],
 "metadata": {
  "kernelspec": {
   "display_name": "Python 3",
   "language": "python",
   "name": "python3"
  },
  "language_info": {
   "codemirror_mode": {
    "name": "ipython",
    "version": 3
   },
   "file_extension": ".py",
   "mimetype": "text/x-python",
   "name": "python",
   "nbconvert_exporter": "python",
   "pygments_lexer": "ipython3",
   "version": "3.8.5"
  }
 },
 "nbformat": 4,
 "nbformat_minor": 4
}
